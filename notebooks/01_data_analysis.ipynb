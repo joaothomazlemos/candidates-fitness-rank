{
 "cells": [
  {
   "cell_type": "markdown",
   "metadata": {},
   "source": [
    "# 1 The objective of this notebook is to analyze the data from the dataset and set up a reference metric with a baseline mode"
   ]
  },
  {
   "cell_type": "markdown",
   "metadata": {},
   "source": [
    "## Data Atributes/Description:\n",
    "\n",
    "Attributes:\n",
    " * id : unique identifier for candidate (numeric)\n",
    "\n",
    " * job_title : job title for candidate (text)\n",
    "\n",
    " * location : geographical location for candidate (text)\n",
    "\n",
    " * connections: number of connections candidate has, 500+ means over 500 (text)\n",
    "\n",
    "Output (desired target):\n",
    " * fit - how fit the candidate is for the role? (numeric, probability between 0-1)\n",
    "\n",
    "Keywords: “Aspiring human resources” or “seeking human resources”\n",
    "\n",
    "\n",
    "\n"
   ]
  },
  {
   "cell_type": "code",
   "execution_count": 1,
   "metadata": {},
   "outputs": [
    {
     "name": "stderr",
     "output_type": "stream",
     "text": [
      "[nltk_data] Downloading package punkt to C:\\Users\\joao-\n",
      "[nltk_data]     lemos\\AppData\\Roaming\\nltk_data...\n",
      "[nltk_data]   Package punkt is already up-to-date!\n",
      "[nltk_data] Downloading package stopwords to C:\\Users\\joao-\n",
      "[nltk_data]     lemos\\AppData\\Roaming\\nltk_data...\n",
      "[nltk_data]   Package stopwords is already up-to-date!\n",
      "[nltk_data] Downloading package wordnet to C:\\Users\\joao-\n",
      "[nltk_data]     lemos\\AppData\\Roaming\\nltk_data...\n",
      "[nltk_data]   Package wordnet is already up-to-date!\n",
      "[nltk_data] Downloading package omw-1.4 to C:\\Users\\joao-\n",
      "[nltk_data]     lemos\\AppData\\Roaming\\nltk_data...\n",
      "[nltk_data]   Package omw-1.4 is already up-to-date!\n",
      "[nltk_data] Downloading package averaged_perceptron_tagger to\n",
      "[nltk_data]     C:\\Users\\joao-lemos\\AppData\\Roaming\\nltk_data...\n",
      "[nltk_data]   Package averaged_perceptron_tagger is already up-to-\n",
      "[nltk_data]       date!\n",
      "[nltk_data] Downloading package vader_lexicon to C:\\Users\\joao-\n",
      "[nltk_data]     lemos\\AppData\\Roaming\\nltk_data...\n",
      "[nltk_data]   Package vader_lexicon is already up-to-date!\n"
     ]
    }
   ],
   "source": [
    "#---------Importing libraries---------#\n",
    "\n",
    "#---Data analysis---#\n",
    "import pandas as pd\n",
    "import numpy as np\n",
    "\n",
    "\n",
    "#---Data visualization---#\n",
    "import matplotlib.pyplot as plt\n",
    "import seaborn as sns\n",
    "plt.style.use('ggplot')\n",
    "\n",
    "\n",
    "#---NLP---#\n",
    "import re\n",
    "import string\n",
    "from collections import Counter\n",
    "\n",
    "import nltk\n",
    "from nltk.tokenize import WordPunctTokenizer\n",
    "from nltk.stem import PorterStemmer\n",
    "from nltk.stem.wordnet import WordNetLemmatizer\n",
    "\n",
    "#---nltkDownloads---# https://raw.githubusercontent.com/nltk/nltk_data/gh-pages/index.xml\n",
    "nltk.download('punkt')\n",
    "nltk.download('stopwords')\n",
    "nltk.download('wordnet')\n",
    "nltk.download('omw-1.4')\n",
    "nltk.download('averaged_perceptron_tagger')\n",
    "nltk.download('vader_lexicon')\n",
    "\n",
    "import spacy\n",
    "\n",
    "from sklearn.feature_extraction.text import CountVectorizer\n",
    "from sklearn.feature_extraction.text import TfidfVectorizer\n",
    "from sklearn.metrics.pairwise import cosine_similarity\n",
    "#from sentence_transformers import SentenceTransformer\n",
    "\n",
    "\n",
    "#---utils---#\n",
    "import os\n",
    "from pathlib import Path\n",
    "\n",
    "\n",
    "#ignore warnings\n",
    "import warnings\n",
    "warnings.filterwarnings('ignore')"
   ]
  },
  {
   "cell_type": "code",
   "execution_count": 2,
   "metadata": {},
   "outputs": [],
   "source": [
    "#spacy\n",
    "#lemmatization with spacy\n",
    "import en_core_web_sm\n",
    "nlp = spacy.load('en_core_web_sm')"
   ]
  },
  {
   "cell_type": "markdown",
   "metadata": {},
   "source": [
    "## Step 1: Data Loading and Inspection\n",
    "\n",
    "Load the dataset into a pandas DataFrame.\n",
    "\n",
    "Check the dimensions of the dataset (number of rows and columns).\n",
    "\n",
    "Examine the first few rows of the dataset to get an initial understanding of the data.\n",
    "\n",
    "Check for any missing values in the dataset."
   ]
  },
  {
   "cell_type": "code",
   "execution_count": 3,
   "metadata": {},
   "outputs": [
    {
     "data": {
      "text/html": [
       "<div>\n",
       "<style scoped>\n",
       "    .dataframe tbody tr th:only-of-type {\n",
       "        vertical-align: middle;\n",
       "    }\n",
       "\n",
       "    .dataframe tbody tr th {\n",
       "        vertical-align: top;\n",
       "    }\n",
       "\n",
       "    .dataframe thead th {\n",
       "        text-align: right;\n",
       "    }\n",
       "</style>\n",
       "<table border=\"1\" class=\"dataframe\">\n",
       "  <thead>\n",
       "    <tr style=\"text-align: right;\">\n",
       "      <th></th>\n",
       "      <th>id</th>\n",
       "      <th>job_title</th>\n",
       "      <th>location</th>\n",
       "      <th>connection</th>\n",
       "      <th>fit</th>\n",
       "    </tr>\n",
       "  </thead>\n",
       "  <tbody>\n",
       "    <tr>\n",
       "      <th>0</th>\n",
       "      <td>1</td>\n",
       "      <td>2019 C.T. Bauer College of Business Graduate (...</td>\n",
       "      <td>Houston, Texas</td>\n",
       "      <td>85</td>\n",
       "      <td>NaN</td>\n",
       "    </tr>\n",
       "    <tr>\n",
       "      <th>1</th>\n",
       "      <td>2</td>\n",
       "      <td>Native English Teacher at EPIK (English Progra...</td>\n",
       "      <td>Kanada</td>\n",
       "      <td>500+</td>\n",
       "      <td>NaN</td>\n",
       "    </tr>\n",
       "    <tr>\n",
       "      <th>2</th>\n",
       "      <td>3</td>\n",
       "      <td>Aspiring Human Resources Professional</td>\n",
       "      <td>Raleigh-Durham, North Carolina Area</td>\n",
       "      <td>44</td>\n",
       "      <td>NaN</td>\n",
       "    </tr>\n",
       "    <tr>\n",
       "      <th>3</th>\n",
       "      <td>4</td>\n",
       "      <td>People Development Coordinator at Ryan</td>\n",
       "      <td>Denton, Texas</td>\n",
       "      <td>500+</td>\n",
       "      <td>NaN</td>\n",
       "    </tr>\n",
       "    <tr>\n",
       "      <th>4</th>\n",
       "      <td>5</td>\n",
       "      <td>Advisory Board Member at Celal Bayar University</td>\n",
       "      <td>İzmir, Türkiye</td>\n",
       "      <td>500+</td>\n",
       "      <td>NaN</td>\n",
       "    </tr>\n",
       "  </tbody>\n",
       "</table>\n",
       "</div>"
      ],
      "text/plain": [
       "   id                                          job_title  \\\n",
       "0   1  2019 C.T. Bauer College of Business Graduate (...   \n",
       "1   2  Native English Teacher at EPIK (English Progra...   \n",
       "2   3              Aspiring Human Resources Professional   \n",
       "3   4             People Development Coordinator at Ryan   \n",
       "4   5    Advisory Board Member at Celal Bayar University   \n",
       "\n",
       "                              location connection  fit  \n",
       "0                       Houston, Texas         85  NaN  \n",
       "1                               Kanada      500+   NaN  \n",
       "2  Raleigh-Durham, North Carolina Area         44  NaN  \n",
       "3                        Denton, Texas      500+   NaN  \n",
       "4                       İzmir, Türkiye      500+   NaN  "
      ]
     },
     "execution_count": 3,
     "metadata": {},
     "output_type": "execute_result"
    }
   ],
   "source": [
    "raw_data_path = os.path.join(os.path.pardir, 'data', 'raw', 'potential-talents - Aspiring human resources - seeking human resources.csv')\n",
    "\n",
    "df = pd.read_csv(raw_data_path)\n",
    "\n",
    "df.head()"
   ]
  },
  {
   "cell_type": "code",
   "execution_count": 4,
   "metadata": {},
   "outputs": [
    {
     "data": {
      "text/plain": [
       "id              int64\n",
       "job_title      object\n",
       "location       object\n",
       "connection     object\n",
       "fit           float64\n",
       "dtype: object"
      ]
     },
     "execution_count": 4,
     "metadata": {},
     "output_type": "execute_result"
    }
   ],
   "source": [
    "df.dtypes"
   ]
  },
  {
   "cell_type": "code",
   "execution_count": 5,
   "metadata": {},
   "outputs": [
    {
     "data": {
      "text/html": [
       "<div>\n",
       "<style scoped>\n",
       "    .dataframe tbody tr th:only-of-type {\n",
       "        vertical-align: middle;\n",
       "    }\n",
       "\n",
       "    .dataframe tbody tr th {\n",
       "        vertical-align: top;\n",
       "    }\n",
       "\n",
       "    .dataframe thead th {\n",
       "        text-align: right;\n",
       "    }\n",
       "</style>\n",
       "<table border=\"1\" class=\"dataframe\">\n",
       "  <thead>\n",
       "    <tr style=\"text-align: right;\">\n",
       "      <th></th>\n",
       "      <th>job_title</th>\n",
       "      <th>location</th>\n",
       "      <th>connection</th>\n",
       "    </tr>\n",
       "  </thead>\n",
       "  <tbody>\n",
       "    <tr>\n",
       "      <th>count</th>\n",
       "      <td>104</td>\n",
       "      <td>104</td>\n",
       "      <td>104</td>\n",
       "    </tr>\n",
       "    <tr>\n",
       "      <th>unique</th>\n",
       "      <td>52</td>\n",
       "      <td>41</td>\n",
       "      <td>33</td>\n",
       "    </tr>\n",
       "    <tr>\n",
       "      <th>top</th>\n",
       "      <td>2019 C.T. Bauer College of Business Graduate (...</td>\n",
       "      <td>Kanada</td>\n",
       "      <td>500+</td>\n",
       "    </tr>\n",
       "    <tr>\n",
       "      <th>freq</th>\n",
       "      <td>7</td>\n",
       "      <td>12</td>\n",
       "      <td>44</td>\n",
       "    </tr>\n",
       "  </tbody>\n",
       "</table>\n",
       "</div>"
      ],
      "text/plain": [
       "                                                job_title location connection\n",
       "count                                                 104      104        104\n",
       "unique                                                 52       41         33\n",
       "top     2019 C.T. Bauer College of Business Graduate (...   Kanada      500+ \n",
       "freq                                                    7       12         44"
      ]
     },
     "execution_count": 5,
     "metadata": {},
     "output_type": "execute_result"
    }
   ],
   "source": [
    "#onyl object cols\n",
    "df[df.columns[df.dtypes == 'object']].describe()"
   ]
  },
  {
   "cell_type": "code",
   "execution_count": 6,
   "metadata": {},
   "outputs": [
    {
     "data": {
      "text/html": [
       "<div>\n",
       "<style scoped>\n",
       "    .dataframe tbody tr th:only-of-type {\n",
       "        vertical-align: middle;\n",
       "    }\n",
       "\n",
       "    .dataframe tbody tr th {\n",
       "        vertical-align: top;\n",
       "    }\n",
       "\n",
       "    .dataframe thead th {\n",
       "        text-align: right;\n",
       "    }\n",
       "</style>\n",
       "<table border=\"1\" class=\"dataframe\">\n",
       "  <thead>\n",
       "    <tr style=\"text-align: right;\">\n",
       "      <th></th>\n",
       "      <th>job_title</th>\n",
       "      <th>location</th>\n",
       "      <th>connection</th>\n",
       "    </tr>\n",
       "  </thead>\n",
       "  <tbody>\n",
       "    <tr>\n",
       "      <th>count</th>\n",
       "      <td>104</td>\n",
       "      <td>104</td>\n",
       "      <td>104</td>\n",
       "    </tr>\n",
       "    <tr>\n",
       "      <th>unique</th>\n",
       "      <td>52</td>\n",
       "      <td>41</td>\n",
       "      <td>33</td>\n",
       "    </tr>\n",
       "    <tr>\n",
       "      <th>top</th>\n",
       "      <td>2019 C.T. Bauer College of Business Graduate (...</td>\n",
       "      <td>Kanada</td>\n",
       "      <td>500+</td>\n",
       "    </tr>\n",
       "    <tr>\n",
       "      <th>freq</th>\n",
       "      <td>7</td>\n",
       "      <td>12</td>\n",
       "      <td>44</td>\n",
       "    </tr>\n",
       "  </tbody>\n",
       "</table>\n",
       "</div>"
      ],
      "text/plain": [
       "                                                job_title location connection\n",
       "count                                                 104      104        104\n",
       "unique                                                 52       41         33\n",
       "top     2019 C.T. Bauer College of Business Graduate (...   Kanada      500+ \n",
       "freq                                                    7       12         44"
      ]
     },
     "execution_count": 6,
     "metadata": {},
     "output_type": "execute_result"
    }
   ],
   "source": [
    "df.describe(include=object)"
   ]
  },
  {
   "cell_type": "code",
   "execution_count": 7,
   "metadata": {},
   "outputs": [
    {
     "data": {
      "text/plain": [
       "id              0\n",
       "job_title       0\n",
       "location        0\n",
       "connection      0\n",
       "fit           104\n",
       "dtype: int64"
      ]
     },
     "execution_count": 7,
     "metadata": {},
     "output_type": "execute_result"
    }
   ],
   "source": [
    "#checking for missing values\n",
    "df.isnull().sum()"
   ]
  },
  {
   "cell_type": "markdown",
   "metadata": {},
   "source": [
    "## Step 2: Data Cleaning and Preprocessing\n",
    "\n",
    "Handle missing values, if any, by either imputing them or removing rows/columns with missing values, depending on the situation.\n",
    "\n",
    "Convert categorical variables into appropriate data types (e.g., convert 'month' and 'contact' to categorical data type).\n",
    "\n",
    "Encode binary categorical variables ('default', 'housing', 'loan', and 'y') into numeric format (0 and 1) for modeling purposes."
   ]
  },
  {
   "cell_type": "code",
   "execution_count": 8,
   "metadata": {},
   "outputs": [
    {
     "data": {
      "text/html": [
       "<div>\n",
       "<style scoped>\n",
       "    .dataframe tbody tr th:only-of-type {\n",
       "        vertical-align: middle;\n",
       "    }\n",
       "\n",
       "    .dataframe tbody tr th {\n",
       "        vertical-align: top;\n",
       "    }\n",
       "\n",
       "    .dataframe thead th {\n",
       "        text-align: right;\n",
       "    }\n",
       "</style>\n",
       "<table border=\"1\" class=\"dataframe\">\n",
       "  <thead>\n",
       "    <tr style=\"text-align: right;\">\n",
       "      <th></th>\n",
       "      <th>id</th>\n",
       "      <th>job_title</th>\n",
       "      <th>location</th>\n",
       "      <th>connection</th>\n",
       "    </tr>\n",
       "  </thead>\n",
       "  <tbody>\n",
       "    <tr>\n",
       "      <th>0</th>\n",
       "      <td>1</td>\n",
       "      <td>2019 C.T. Bauer College of Business Graduate (...</td>\n",
       "      <td>Houston, Texas</td>\n",
       "      <td>85</td>\n",
       "    </tr>\n",
       "    <tr>\n",
       "      <th>1</th>\n",
       "      <td>2</td>\n",
       "      <td>Native English Teacher at EPIK (English Progra...</td>\n",
       "      <td>Kanada</td>\n",
       "      <td>500+</td>\n",
       "    </tr>\n",
       "    <tr>\n",
       "      <th>2</th>\n",
       "      <td>3</td>\n",
       "      <td>Aspiring Human Resources Professional</td>\n",
       "      <td>Raleigh-Durham, North Carolina Area</td>\n",
       "      <td>44</td>\n",
       "    </tr>\n",
       "    <tr>\n",
       "      <th>3</th>\n",
       "      <td>4</td>\n",
       "      <td>People Development Coordinator at Ryan</td>\n",
       "      <td>Denton, Texas</td>\n",
       "      <td>500+</td>\n",
       "    </tr>\n",
       "    <tr>\n",
       "      <th>4</th>\n",
       "      <td>5</td>\n",
       "      <td>Advisory Board Member at Celal Bayar University</td>\n",
       "      <td>İzmir, Türkiye</td>\n",
       "      <td>500+</td>\n",
       "    </tr>\n",
       "  </tbody>\n",
       "</table>\n",
       "</div>"
      ],
      "text/plain": [
       "   id                                          job_title  \\\n",
       "0   1  2019 C.T. Bauer College of Business Graduate (...   \n",
       "1   2  Native English Teacher at EPIK (English Progra...   \n",
       "2   3              Aspiring Human Resources Professional   \n",
       "3   4             People Development Coordinator at Ryan   \n",
       "4   5    Advisory Board Member at Celal Bayar University   \n",
       "\n",
       "                              location connection  \n",
       "0                       Houston, Texas         85  \n",
       "1                               Kanada      500+   \n",
       "2  Raleigh-Durham, North Carolina Area         44  \n",
       "3                        Denton, Texas      500+   \n",
       "4                       İzmir, Türkiye      500+   "
      ]
     },
     "execution_count": 8,
     "metadata": {},
     "output_type": "execute_result"
    }
   ],
   "source": [
    "# drop the fit row\n",
    "df.drop(columns=['fit'], inplace=True)\n",
    "\n",
    "df.head()"
   ]
  },
  {
   "cell_type": "code",
   "execution_count": 9,
   "metadata": {},
   "outputs": [],
   "source": [
    "#setting the index to be the id\n",
    "df.set_index('id', inplace=True)"
   ]
  },
  {
   "cell_type": "code",
   "execution_count": 10,
   "metadata": {},
   "outputs": [
    {
     "data": {
      "text/plain": [
       "51"
      ]
     },
     "execution_count": 10,
     "metadata": {},
     "output_type": "execute_result"
    }
   ],
   "source": [
    "#checking for duplicated rows\n",
    "df.duplicated().sum()"
   ]
  },
  {
   "cell_type": "code",
   "execution_count": 11,
   "metadata": {},
   "outputs": [
    {
     "data": {
      "text/plain": [
       "(53, 3)"
      ]
     },
     "execution_count": 11,
     "metadata": {},
     "output_type": "execute_result"
    }
   ],
   "source": [
    "#drop duplicated rows\n",
    "df.drop_duplicates(inplace=True)\n",
    "df.shape"
   ]
  },
  {
   "cell_type": "code",
   "execution_count": 12,
   "metadata": {},
   "outputs": [
    {
     "data": {
      "text/plain": [
       "job_title     0\n",
       "location      0\n",
       "connection    0\n",
       "dtype: int64"
      ]
     },
     "execution_count": 12,
     "metadata": {},
     "output_type": "execute_result"
    }
   ],
   "source": [
    "#checking for na or null values\n",
    "df.isnull().sum()"
   ]
  },
  {
   "cell_type": "code",
   "execution_count": 13,
   "metadata": {},
   "outputs": [],
   "source": [
    "df_clean = df.copy()\n"
   ]
  },
  {
   "cell_type": "markdown",
   "metadata": {},
   "source": [
    "# Text Preprocessing\n",
    "\n",
    "Col - job tittles"
   ]
  },
  {
   "cell_type": "code",
   "execution_count": 30,
   "metadata": {},
   "outputs": [],
   "source": [
    "#text preprocessing function\n",
    "def text_cleaner(text):\n",
    "    #lowercase\n",
    "    text = text.lower() #not required in BERT\n",
    "    #remove special characters and digits\n",
    "    text = re.sub(r\"(\\d|\\W)+\",\" \", text) \n",
    "    #remove single characters from the start, from the middle and from the end of the text\n",
    "    text = re.sub(r'\\^[a-zA-Z]\\s+', ' ', text)#not required in BERT\n",
    "    text = re.sub(r'\\s+[a-zA-Z]\\s+', ' ', text)#not required in BERT\n",
    "    text = re.sub(r'\\s+[a-zA-Z]$', ' ', text)#not required in BERT\n",
    "    #removing numbers\n",
    "    text = re.sub(r'\\d+', '', text)#not required in BERT\n",
    "\n",
    "    #remove stopwords\n",
    "    stop_words = nltk.corpus.stopwords.words('english')\n",
    "    text_tokens = nltk.word_tokenize(text)\n",
    "    text = [word for word in text_tokens if word not in stop_words]\n",
    "    \n",
    "    #lemmatization with spacy\n",
    "    text = nlp(' '.join(text))\n",
    "    text = [word.lemma_ for word in text] #not required in BERT\n",
    "    text = ' '.join(text)\n",
    "    #remove extra spaces\n",
    "    text = re.sub(r'\\s+', ' ', text)\n",
    "    \n",
    "\n",
    "\n",
    "\n",
    "    return text"
   ]
  },
  {
   "cell_type": "markdown",
   "metadata": {},
   "source": [
    "## cleaning time!"
   ]
  },
  {
   "cell_type": "code",
   "execution_count": 32,
   "metadata": {},
   "outputs": [
    {
     "data": {
      "text/html": [
       "<div>\n",
       "<style scoped>\n",
       "    .dataframe tbody tr th:only-of-type {\n",
       "        vertical-align: middle;\n",
       "    }\n",
       "\n",
       "    .dataframe tbody tr th {\n",
       "        vertical-align: top;\n",
       "    }\n",
       "\n",
       "    .dataframe thead th {\n",
       "        text-align: right;\n",
       "    }\n",
       "</style>\n",
       "<table border=\"1\" class=\"dataframe\">\n",
       "  <thead>\n",
       "    <tr style=\"text-align: right;\">\n",
       "      <th></th>\n",
       "      <th>job_title</th>\n",
       "      <th>location</th>\n",
       "      <th>connection</th>\n",
       "    </tr>\n",
       "    <tr>\n",
       "      <th>id</th>\n",
       "      <th></th>\n",
       "      <th></th>\n",
       "      <th></th>\n",
       "    </tr>\n",
       "  </thead>\n",
       "  <tbody>\n",
       "    <tr>\n",
       "      <th>1</th>\n",
       "      <td>bauer college business graduate magna cum laud...</td>\n",
       "      <td>houston texas</td>\n",
       "      <td>85</td>\n",
       "    </tr>\n",
       "    <tr>\n",
       "      <th>2</th>\n",
       "      <td>native english teacher epik english program korea</td>\n",
       "      <td>kanada</td>\n",
       "      <td>500</td>\n",
       "    </tr>\n",
       "    <tr>\n",
       "      <th>3</th>\n",
       "      <td>aspire human resource professional</td>\n",
       "      <td>raleigh durham north carolina area</td>\n",
       "      <td>44</td>\n",
       "    </tr>\n",
       "    <tr>\n",
       "      <th>4</th>\n",
       "      <td>people development coordinator ryan</td>\n",
       "      <td>denton texas</td>\n",
       "      <td>500</td>\n",
       "    </tr>\n",
       "    <tr>\n",
       "      <th>5</th>\n",
       "      <td>advisory board member celal bayar university</td>\n",
       "      <td>zmir türkiye</td>\n",
       "      <td>500</td>\n",
       "    </tr>\n",
       "    <tr>\n",
       "      <th>6</th>\n",
       "      <td>aspire human resource specialist</td>\n",
       "      <td>great new york city area</td>\n",
       "      <td>1</td>\n",
       "    </tr>\n",
       "    <tr>\n",
       "      <th>7</th>\n",
       "      <td>student humber college aspire human resource g...</td>\n",
       "      <td>kanada</td>\n",
       "      <td>61</td>\n",
       "    </tr>\n",
       "    <tr>\n",
       "      <th>8</th>\n",
       "      <td>hr senior specialist</td>\n",
       "      <td>san francisco bay area</td>\n",
       "      <td>500</td>\n",
       "    </tr>\n",
       "    <tr>\n",
       "      <th>10</th>\n",
       "      <td>seek human resource hris generalist position</td>\n",
       "      <td>great philadelphia area</td>\n",
       "      <td>500</td>\n",
       "    </tr>\n",
       "    <tr>\n",
       "      <th>11</th>\n",
       "      <td>student chapman university</td>\n",
       "      <td>lake forest california</td>\n",
       "      <td>2</td>\n",
       "    </tr>\n",
       "    <tr>\n",
       "      <th>12</th>\n",
       "      <td>svp chro marketing communication csr officer e...</td>\n",
       "      <td>houston texas area</td>\n",
       "      <td>500</td>\n",
       "    </tr>\n",
       "    <tr>\n",
       "      <th>13</th>\n",
       "      <td>human resource coordinator intercontinental bu...</td>\n",
       "      <td>atlanta georgia</td>\n",
       "      <td>500</td>\n",
       "    </tr>\n",
       "    <tr>\n",
       "      <th>27</th>\n",
       "      <td>aspire human resource management student seek ...</td>\n",
       "      <td>houston texas area</td>\n",
       "      <td>500</td>\n",
       "    </tr>\n",
       "    <tr>\n",
       "      <th>28</th>\n",
       "      <td>seek human resource opportunity</td>\n",
       "      <td>chicago illinois</td>\n",
       "      <td>390</td>\n",
       "    </tr>\n",
       "    <tr>\n",
       "      <th>66</th>\n",
       "      <td>experience retail manager aspire human resourc...</td>\n",
       "      <td>austin texas area</td>\n",
       "      <td>57</td>\n",
       "    </tr>\n",
       "  </tbody>\n",
       "</table>\n",
       "</div>"
      ],
      "text/plain": [
       "                                            job_title  \\\n",
       "id                                                      \n",
       "1   bauer college business graduate magna cum laud...   \n",
       "2   native english teacher epik english program korea   \n",
       "3                  aspire human resource professional   \n",
       "4                 people development coordinator ryan   \n",
       "5        advisory board member celal bayar university   \n",
       "6                    aspire human resource specialist   \n",
       "7   student humber college aspire human resource g...   \n",
       "8                                hr senior specialist   \n",
       "10       seek human resource hris generalist position   \n",
       "11                         student chapman university   \n",
       "12  svp chro marketing communication csr officer e...   \n",
       "13  human resource coordinator intercontinental bu...   \n",
       "27  aspire human resource management student seek ...   \n",
       "28                    seek human resource opportunity   \n",
       "66  experience retail manager aspire human resourc...   \n",
       "\n",
       "                              location connection  \n",
       "id                                                 \n",
       "1                        houston texas         85  \n",
       "2                               kanada       500   \n",
       "3   raleigh durham north carolina area         44  \n",
       "4                         denton texas       500   \n",
       "5                         zmir türkiye       500   \n",
       "6             great new york city area          1  \n",
       "7                               kanada         61  \n",
       "8               san francisco bay area       500   \n",
       "10             great philadelphia area       500   \n",
       "11              lake forest california          2  \n",
       "12                  houston texas area       500   \n",
       "13                     atlanta georgia       500   \n",
       "27                  houston texas area       500   \n",
       "28                    chicago illinois        390  \n",
       "66                   austin texas area         57  "
      ]
     },
     "execution_count": 32,
     "metadata": {},
     "output_type": "execute_result"
    }
   ],
   "source": [
    "df_clean['job_title'] = df_clean['job_title'].apply(lambda x: text_cleaner(x))\n",
    "df_clean['location'] = df_clean['location'].apply(lambda x: text_cleaner(x))\n",
    "df_clean['connection'] = df['connection'].str.replace(r'\\+', '', regex=True)\n",
    "df_clean.head(15)"
   ]
  },
  {
   "cell_type": "code",
   "execution_count": 34,
   "metadata": {},
   "outputs": [
    {
     "data": {
      "text/html": [
       "<div>\n",
       "<style scoped>\n",
       "    .dataframe tbody tr th:only-of-type {\n",
       "        vertical-align: middle;\n",
       "    }\n",
       "\n",
       "    .dataframe tbody tr th {\n",
       "        vertical-align: top;\n",
       "    }\n",
       "\n",
       "    .dataframe thead th {\n",
       "        text-align: right;\n",
       "    }\n",
       "</style>\n",
       "<table border=\"1\" class=\"dataframe\">\n",
       "  <thead>\n",
       "    <tr style=\"text-align: right;\">\n",
       "      <th></th>\n",
       "      <th>job_title</th>\n",
       "      <th>location</th>\n",
       "      <th>connection</th>\n",
       "      <th>all_text</th>\n",
       "    </tr>\n",
       "    <tr>\n",
       "      <th>id</th>\n",
       "      <th></th>\n",
       "      <th></th>\n",
       "      <th></th>\n",
       "      <th></th>\n",
       "    </tr>\n",
       "  </thead>\n",
       "  <tbody>\n",
       "    <tr>\n",
       "      <th>1</th>\n",
       "      <td>bauer college business graduate magna cum laud...</td>\n",
       "      <td>houston texas</td>\n",
       "      <td>85</td>\n",
       "      <td>bauer college business graduate magna cum laud...</td>\n",
       "    </tr>\n",
       "    <tr>\n",
       "      <th>2</th>\n",
       "      <td>native english teacher epik english program korea</td>\n",
       "      <td>kanada</td>\n",
       "      <td>500</td>\n",
       "      <td>native english teacher epik english program ko...</td>\n",
       "    </tr>\n",
       "    <tr>\n",
       "      <th>3</th>\n",
       "      <td>aspire human resource professional</td>\n",
       "      <td>raleigh durham north carolina area</td>\n",
       "      <td>44</td>\n",
       "      <td>aspire human resource professional raleigh dur...</td>\n",
       "    </tr>\n",
       "    <tr>\n",
       "      <th>4</th>\n",
       "      <td>people development coordinator ryan</td>\n",
       "      <td>denton texas</td>\n",
       "      <td>500</td>\n",
       "      <td>people development coordinator ryan denton tex...</td>\n",
       "    </tr>\n",
       "    <tr>\n",
       "      <th>5</th>\n",
       "      <td>advisory board member celal bayar university</td>\n",
       "      <td>zmir türkiye</td>\n",
       "      <td>500</td>\n",
       "      <td>advisory board member celal bayar university z...</td>\n",
       "    </tr>\n",
       "  </tbody>\n",
       "</table>\n",
       "</div>"
      ],
      "text/plain": [
       "                                            job_title  \\\n",
       "id                                                      \n",
       "1   bauer college business graduate magna cum laud...   \n",
       "2   native english teacher epik english program korea   \n",
       "3                  aspire human resource professional   \n",
       "4                 people development coordinator ryan   \n",
       "5        advisory board member celal bayar university   \n",
       "\n",
       "                              location connection  \\\n",
       "id                                                  \n",
       "1                        houston texas         85   \n",
       "2                               kanada       500    \n",
       "3   raleigh durham north carolina area         44   \n",
       "4                         denton texas       500    \n",
       "5                         zmir türkiye       500    \n",
       "\n",
       "                                             all_text  \n",
       "id                                                     \n",
       "1   bauer college business graduate magna cum laud...  \n",
       "2   native english teacher epik english program ko...  \n",
       "3   aspire human resource professional raleigh dur...  \n",
       "4   people development coordinator ryan denton tex...  \n",
       "5   advisory board member celal bayar university z...  "
      ]
     },
     "execution_count": 34,
     "metadata": {},
     "output_type": "execute_result"
    }
   ],
   "source": [
    "# Creating an extra column with all columns combined\n",
    "df_clean['all_text'] = df_clean['job_title'] + ' ' + \\\n",
    "    df_clean['location'] + ' ' + df_clean['connection'] \n",
    "\n",
    "df_clean.head()"
   ]
  },
  {
   "cell_type": "code",
   "execution_count": 36,
   "metadata": {},
   "outputs": [
    {
     "data": {
      "text/plain": [
       "'bauer college business graduate magna cum laude aspire human resource professional houston texas 85'"
      ]
     },
     "execution_count": 36,
     "metadata": {},
     "output_type": "execute_result"
    }
   ],
   "source": [
    "#example:\n",
    "df_clean['all_text'].iloc[0]"
   ]
  },
  {
   "cell_type": "code",
   "execution_count": 56,
   "metadata": {},
   "outputs": [
    {
     "name": "stdout",
     "output_type": "stream",
     "text": [
      "bauer college business graduate magna cum laude aspire human resource professional\n",
      "2019 C.T. Bauer College of Business Graduate (Magna Cum Laude) and aspiring Human Resources professional\n"
     ]
    }
   ],
   "source": [
    "# visualizing the differences that cleaning made\n",
    "print(df_clean['job_title'].iloc[0])\n",
    "print(df['job_title'].iloc[0])"
   ]
  },
  {
   "cell_type": "code",
   "execution_count": 37,
   "metadata": {},
   "outputs": [
    {
     "data": {
      "image/png": "[encoded data removed]",
      "text/plain": [
       "<Figure size 640x480 with 1 Axes>"
      ]
     },
     "metadata": {},
     "output_type": "display_data"
    }
   ],
   "source": [
    "#most commum words in job tittle and in all text\n",
    "\n",
    "fig = plt.figure(figsize=(15, 10))\n",
    "plt.subplot(2, 1, 1)\n",
    "words = list(df_clean['job_title'].values)\n",
    "words = ' '.join(words).split()\n",
    "FreqDist = nltk.FreqDist(words)\n",
    "plt.title('Most common words in job titles')\n",
    "FreqDist.plot(30, cumulative=False);\n"
   ]
  },
  {
   "cell_type": "code",
   "execution_count": 38,
   "metadata": {},
   "outputs": [
    {
     "data": {
      "image/png": "[encoded data removed]",
      "text/plain": [
       "<Figure size 1500x1000 with 1 Axes>"
      ]
     },
     "metadata": {},
     "output_type": "display_data"
    }
   ],
   "source": [
    "#most commum words in job tittle and in all_text\n",
    "\n",
    "fig = plt.figure(figsize=(15, 10))\n",
    "plt.subplot(2, 1, 1)\n",
    "words = list(df_clean['all_text'].values)\n",
    "words = ' '.join(words).split()\n",
    "FreqDist = nltk.FreqDist(words)\n",
    "plt.title('Most common words in all_text')\n",
    "FreqDist.plot(30, cumulative=False);"
   ]
  },
  {
   "cell_type": "markdown",
   "metadata": {},
   "source": [
    "## Vector representation of job titles, location and connections ( per row), cossine similarity on key phrases"
   ]
  },
  {
   "cell_type": "code",
   "execution_count": 47,
   "metadata": {},
   "outputs": [
    {
     "name": "stdout",
     "output_type": "stream",
     "text": [
      "['administration' 'administrative' 'admission' 'advisory' 'always'\n",
      " 'america' 'analyst' 'analytic' 'army' 'art' 'aspire' 'assistant'\n",
      " 'atlanta' 'bachelor' 'bauer' 'bayar' 'beach' 'benefit' 'beneteau'\n",
      " 'biology' 'board' 'brand' 'buckhead' 'business' 'care' 'celal' 'center'\n",
      " 'chapman' 'chro' 'college' 'communication' 'community' 'compensation'\n",
      " 'conflict' 'coordinator' 'create' 'csr' 'cum' 'customer' 'datum' 'delphi'\n",
      " 'development' 'director' 'employment' 'endemol' 'energetic' 'energy'\n",
      " 'engage' 'engie' 'engineer' 'english' 'entry' 'environment'\n",
      " 'environmental' 'epik' 'excellence' 'executive' 'experience' 'ey' 'focus'\n",
      " 'generalist' 'gis' 'gphr' 'graduate' 'graduating' 'groupe' 'guard'\n",
      " 'hardware' 'heil' 'help' 'houston' 'hr' 'hris' 'human' 'humber'\n",
      " 'illinois' 'inc' 'inclusive' 'indiana' 'information' 'intelligence'\n",
      " 'intercontinental' 'international' 'internship' 'japan' 'jti' 'junior'\n",
      " 'kokomo' 'korea' 'lab' 'laude' 'lead' 'leader' 'level' 'liberal' 'log'\n",
      " 'long' 'loparex' 'louis' 'love' 'luxottica' 'magna' 'major' 'management'\n",
      " 'manager' 'marketing' 'may' 'medical' 'member' 'national' 'native'\n",
      " 'north' 'nortia' 'office' 'officer' 'official' 'open' 'opportunity'\n",
      " 'organization' 'paint' 'partner' 'passionate' 'patient' 'payroll'\n",
      " 'people' 'policy' 'portfolio' 'position' 'procedure' 'professional'\n",
      " 'program' 'programmer' 'recruit' 'recruiter' 'relocation'\n",
      " 'representative' 'research' 'resource' 'retail' 'retire' 'rrp' 'ryan'\n",
      " 'schwan' 'science' 'scottmadden' 'seek' 'senior' 'service' 'set' 'shine'\n",
      " 'software' 'specialist' 'sphr' 'st' 'staff' 'state' 'student'\n",
      " 'styczynski' 'success' 'svp' 'system' 'talent' 'teacher' 'team' 'tobacco'\n",
      " 'travel' 'traveler' 'undergraduate' 'university' 'victoria' 'wellington'\n",
      " 'western' 'westfield' 'within' 'woodland' 'work' 'world']\n"
     ]
    }
   ],
   "source": [
    "#vectorizing the all_text cols to further perform similarity analysis\n",
    "# on Keywords: “Aspiring human resources” or “seeking human resources”\n",
    "vectorizer = CountVectorizer()\n",
    "X = vectorizer.fit_transform(df_clean['job_title'])\n",
    "print(vectorizer.get_feature_names_out())\n",
    "\n",
    "\n"
   ]
  },
  {
   "cell_type": "code",
   "execution_count": 48,
   "metadata": {},
   "outputs": [
    {
     "name": "stdout",
     "output_type": "stream",
     "text": [
      "[[0 0 0 ... 0 0 0]\n",
      " [0 0 0 ... 0 0 0]\n",
      " [0 0 0 ... 0 0 0]\n",
      " ...\n",
      " [0 0 0 ... 0 0 0]\n",
      " [0 0 0 ... 0 0 0]\n",
      " [1 0 0 ... 0 0 0]]\n"
     ]
    }
   ],
   "source": [
    "print(X.toarray())"
   ]
  },
  {
   "cell_type": "code",
   "execution_count": 49,
   "metadata": {},
   "outputs": [
    {
     "name": "stdout",
     "output_type": "stream",
     "text": [
      "Similarity between 'bauer college business graduate magna cum laude aspire human resource professional' and 'aspiring human resources':\n",
      "[[0.30151134]]\n",
      "Similarity between 'bauer college business graduate magna cum laude aspire human resource professional' and 'seeking human resources':\n",
      "[[0.30151134]]\n",
      "Similarity between 'native english teacher epik english program korea' and 'aspiring human resources':\n",
      "[[0.]]\n",
      "Similarity between 'native english teacher epik english program korea' and 'seeking human resources':\n",
      "[[0.]]\n",
      "Similarity between 'aspire human resource professional' and 'aspiring human resources':\n",
      "[[0.5]]\n",
      "Similarity between 'aspire human resource professional' and 'seeking human resources':\n",
      "[[0.5]]\n",
      "Similarity between 'people development coordinator ryan' and 'aspiring human resources':\n",
      "[[0.]]\n",
      "Similarity between 'people development coordinator ryan' and 'seeking human resources':\n",
      "[[0.]]\n",
      "Similarity between 'advisory board member celal bayar university' and 'aspiring human resources':\n",
      "[[0.]]\n",
      "Similarity between 'advisory board member celal bayar university' and 'seeking human resources':\n",
      "[[0.]]\n",
      "Similarity between 'aspire human resource specialist' and 'aspiring human resources':\n",
      "[[0.5]]\n",
      "Similarity between 'aspire human resource specialist' and 'seeking human resources':\n",
      "[[0.5]]\n",
      "Similarity between 'student humber college aspire human resource generalist' and 'aspiring human resources':\n",
      "[[0.37796447]]\n",
      "Similarity between 'student humber college aspire human resource generalist' and 'seeking human resources':\n",
      "[[0.37796447]]\n",
      "Similarity between 'hr senior specialist' and 'aspiring human resources':\n",
      "[[0.]]\n",
      "Similarity between 'hr senior specialist' and 'seeking human resources':\n",
      "[[0.]]\n",
      "Similarity between 'seek human resource hris generalist position' and 'aspiring human resources':\n",
      "[[0.40824829]]\n",
      "Similarity between 'seek human resource hris generalist position' and 'seeking human resources':\n",
      "[[0.40824829]]\n",
      "Similarity between 'student chapman university' and 'aspiring human resources':\n",
      "[[0.]]\n",
      "Similarity between 'student chapman university' and 'seeking human resources':\n",
      "[[0.]]\n",
      "Similarity between 'svp chro marketing communication csr officer engie houston woodland energy gphr sphr' and 'aspiring human resources':\n",
      "[[0.]]\n",
      "Similarity between 'svp chro marketing communication csr officer engie houston woodland energy gphr sphr' and 'seeking human resources':\n",
      "[[0.]]\n",
      "Similarity between 'human resource coordinator intercontinental buckhead atlanta' and 'aspiring human resources':\n",
      "[[0.40824829]]\n",
      "Similarity between 'human resource coordinator intercontinental buckhead atlanta' and 'seeking human resources':\n",
      "[[0.40824829]]\n",
      "Similarity between 'aspire human resource management student seek internship' and 'aspiring human resources':\n",
      "[[0.37796447]]\n",
      "Similarity between 'aspire human resource management student seek internship' and 'seeking human resources':\n",
      "[[0.37796447]]\n",
      "Similarity between 'seek human resource opportunity' and 'aspiring human resources':\n",
      "[[0.5]]\n",
      "Similarity between 'seek human resource opportunity' and 'seeking human resources':\n",
      "[[0.5]]\n",
      "Similarity between 'experience retail manager aspire human resource professional' and 'aspiring human resources':\n",
      "[[0.37796447]]\n",
      "Similarity between 'experience retail manager aspire human resource professional' and 'seeking human resources':\n",
      "[[0.37796447]]\n",
      "Similarity between 'human resource staff recruit professional' and 'aspiring human resources':\n",
      "[[0.4472136]]\n",
      "Similarity between 'human resource staff recruit professional' and 'seeking human resources':\n",
      "[[0.4472136]]\n",
      "Similarity between 'human resource specialist luxottica' and 'aspiring human resources':\n",
      "[[0.5]]\n",
      "Similarity between 'human resource specialist luxottica' and 'seeking human resources':\n",
      "[[0.5]]\n",
      "Similarity between 'director human resource north america groupe beneteau' and 'aspiring human resources':\n",
      "[[0.37796447]]\n",
      "Similarity between 'director human resource north america groupe beneteau' and 'seeking human resources':\n",
      "[[0.37796447]]\n",
      "Similarity between 'retire army national guard recruiter office manager seek position human resource' and 'aspiring human resources':\n",
      "[[0.30151134]]\n",
      "Similarity between 'retire army national guard recruiter office manager seek position human resource' and 'seeking human resources':\n",
      "[[0.30151134]]\n",
      "Similarity between 'human resource generalist scottmadden inc' and 'aspiring human resources':\n",
      "[[0.4472136]]\n",
      "Similarity between 'human resource generalist scottmadden inc' and 'seeking human resources':\n",
      "[[0.4472136]]\n",
      "Similarity between 'business management major aspire human resource manager' and 'aspiring human resources':\n",
      "[[0.37796447]]\n",
      "Similarity between 'business management major aspire human resource manager' and 'seeking human resources':\n",
      "[[0.37796447]]\n",
      "Similarity between 'aspire human resource manager seek internship human resource' and 'aspiring human resources':\n",
      "[[0.57735027]]\n",
      "Similarity between 'aspire human resource manager seek internship human resource' and 'seeking human resources':\n",
      "[[0.57735027]]\n",
      "Similarity between 'human resource professional' and 'aspiring human resources':\n",
      "[[0.57735027]]\n",
      "Similarity between 'human resource professional' and 'seeking human resources':\n",
      "[[0.57735027]]\n",
      "Similarity between 'nortia staff seek human resource payroll administrative professional' and 'aspiring human resources':\n",
      "[[0.35355339]]\n",
      "Similarity between 'nortia staff seek human resource payroll administrative professional' and 'seeking human resources':\n",
      "[[0.35355339]]\n",
      "Similarity between 'aspire human resource professional passionate help create inclusive engage work environment' and 'aspiring human resources':\n",
      "[[0.30151134]]\n",
      "Similarity between 'aspire human resource professional passionate help create inclusive engage work environment' and 'seeking human resources':\n",
      "[[0.30151134]]\n",
      "Similarity between 'human resource conflict management policy procedure talent management benefit compensation' and 'aspiring human resources':\n",
      "[[0.28867513]]\n",
      "Similarity between 'human resource conflict management policy procedure talent management benefit compensation' and 'seeking human resources':\n",
      "[[0.28867513]]\n",
      "Similarity between 'human resource generalist schwan' and 'aspiring human resources':\n",
      "[[0.5]]\n",
      "Similarity between 'human resource generalist schwan' and 'seeking human resources':\n",
      "[[0.5]]\n",
      "Similarity between 'liberal art major aspire human resource analyst' and 'aspiring human resources':\n",
      "[[0.37796447]]\n",
      "Similarity between 'liberal art major aspire human resource analyst' and 'seeking human resources':\n",
      "[[0.37796447]]\n",
      "Similarity between 'junior engineer information system' and 'aspiring human resources':\n",
      "[[0.]]\n",
      "Similarity between 'junior engineer information system' and 'seeking human resources':\n",
      "[[0.]]\n",
      "Similarity between 'senior human resource business partner heil environmental' and 'aspiring human resources':\n",
      "[[0.37796447]]\n",
      "Similarity between 'senior human resource business partner heil environmental' and 'seeking human resources':\n",
      "[[0.37796447]]\n",
      "Similarity between 'aspire human resource professional energetic team focus leader' and 'aspiring human resources':\n",
      "[[0.35355339]]\n",
      "Similarity between 'aspire human resource professional energetic team focus leader' and 'seeking human resources':\n",
      "[[0.35355339]]\n",
      "Similarity between 'hr manager endemol shine north america' and 'aspiring human resources':\n",
      "[[0.]]\n",
      "Similarity between 'hr manager endemol shine north america' and 'seeking human resources':\n",
      "[[0.]]\n",
      "Similarity between 'human resource professional world leader gis software' and 'aspiring human resources':\n",
      "[[0.37796447]]\n",
      "Similarity between 'human resource professional world leader gis software' and 'seeking human resources':\n",
      "[[0.37796447]]\n",
      "Similarity between 'rrp brand portfolio executive jti japan tobacco international' and 'aspiring human resources':\n",
      "[[0.]]\n",
      "Similarity between 'rrp brand portfolio executive jti japan tobacco international' and 'seeking human resources':\n",
      "[[0.]]\n",
      "Similarity between 'information system specialist programmer love datum organization' and 'aspiring human resources':\n",
      "[[0.]]\n",
      "Similarity between 'information system specialist programmer love datum organization' and 'seeking human resources':\n",
      "[[0.]]\n",
      "Similarity between 'bachelor science biology victoria university wellington' and 'aspiring human resources':\n",
      "[[0.]]\n",
      "Similarity between 'bachelor science biology victoria university wellington' and 'seeking human resources':\n",
      "[[0.]]\n",
      "Similarity between 'human resource management major' and 'aspiring human resources':\n",
      "[[0.5]]\n",
      "Similarity between 'human resource management major' and 'seeking human resources':\n",
      "[[0.5]]\n",
      "Similarity between 'director human resource ey' and 'aspiring human resources':\n",
      "[[0.5]]\n",
      "Similarity between 'director human resource ey' and 'seeking human resources':\n",
      "[[0.5]]\n",
      "Similarity between 'undergraduate research assistant styczynski lab' and 'aspiring human resources':\n",
      "[[0.]]\n",
      "Similarity between 'undergraduate research assistant styczynski lab' and 'seeking human resources':\n",
      "[[0.]]\n",
      "Similarity between 'lead official western illinois university' and 'aspiring human resources':\n",
      "[[0.]]\n",
      "Similarity between 'lead official western illinois university' and 'seeking human resources':\n",
      "[[0.]]\n",
      "Similarity between 'seek employment opportunity within customer service patient care' and 'aspiring human resources':\n",
      "[[0.]]\n",
      "Similarity between 'seek employment opportunity within customer service patient care' and 'seeking human resources':\n",
      "[[0.]]\n",
      "Similarity between 'admission representative community medical center long beach' and 'aspiring human resources':\n",
      "[[0.]]\n",
      "Similarity between 'admission representative community medical center long beach' and 'seeking human resources':\n",
      "[[0.]]\n",
      "Similarity between 'seek human resource opportunity open travel relocation' and 'aspiring human resources':\n",
      "[[0.37796447]]\n",
      "Similarity between 'seek human resource opportunity open travel relocation' and 'seeking human resources':\n",
      "[[0.37796447]]\n",
      "Similarity between 'student westfield state university' and 'aspiring human resources':\n",
      "[[0.]]\n",
      "Similarity between 'student westfield state university' and 'seeking human resources':\n",
      "[[0.]]\n",
      "Similarity between 'student indiana university kokomo business management retail manager delphi hardware paint' and 'aspiring human resources':\n",
      "[[0.]]\n",
      "Similarity between 'student indiana university kokomo business management retail manager delphi hardware paint' and 'seeking human resources':\n",
      "[[0.]]\n",
      "Similarity between 'aspire human resource professional' and 'aspiring human resources':\n",
      "[[0.5]]\n",
      "Similarity between 'aspire human resource professional' and 'seeking human resources':\n",
      "[[0.5]]\n",
      "Similarity between 'student' and 'aspiring human resources':\n",
      "[[0.]]\n",
      "Similarity between 'student' and 'seeking human resources':\n",
      "[[0.]]\n",
      "Similarity between 'seek human resource position' and 'aspiring human resources':\n",
      "[[0.5]]\n",
      "Similarity between 'seek human resource position' and 'seeking human resources':\n",
      "[[0.5]]\n",
      "Similarity between 'aspire human resource manager graduating may seek entry level human resource position st louis' and 'aspiring human resources':\n",
      "[[0.47140452]]\n",
      "Similarity between 'aspire human resource manager graduating may seek entry level human resource position st louis' and 'seeking human resources':\n",
      "[[0.47140452]]\n",
      "Similarity between 'human resource generalist loparex' and 'aspiring human resources':\n",
      "[[0.5]]\n",
      "Similarity between 'human resource generalist loparex' and 'seeking human resources':\n",
      "[[0.5]]\n",
      "Similarity between 'business intelligence analytic traveler' and 'aspiring human resources':\n",
      "[[0.]]\n",
      "Similarity between 'business intelligence analytic traveler' and 'seeking human resources':\n",
      "[[0.]]\n",
      "Similarity between 'always set success' and 'aspiring human resources':\n",
      "[[0.]]\n",
      "Similarity between 'always set success' and 'seeking human resources':\n",
      "[[0.]]\n",
      "Similarity between 'director administration excellence log' and 'aspiring human resources':\n",
      "[[0.]]\n",
      "Similarity between 'director administration excellence log' and 'seeking human resources':\n",
      "[[0.]]\n"
     ]
    }
   ],
   "source": [
    "#cosine similarity of the all_text embbedings vs keywords  “Aspiring human resources” or “seeking human resources”\n",
    "keywords = ['aspiring human resources', 'seeking human resources']\n",
    "for sentence in df_clean['job_title']:\n",
    "    for keyword in keywords:\n",
    "        print(f\"Similarity between '{sentence}' and '{keyword}':\")\n",
    "        print(cosine_similarity(vectorizer.transform([sentence]), vectorizer.transform([keyword])))\n",
    "\n"
   ]
  },
  {
   "cell_type": "markdown",
   "metadata": {},
   "source": [
    "Basic NLTK\n"
   ]
  },
  {
   "cell_type": "code",
   "execution_count": 17,
   "metadata": {},
   "outputs": [
    {
     "name": "stdout",
     "output_type": "stream",
     "text": [
      "Aspiring Human Resources Professional\n",
      "<class 'str'>\n"
     ]
    }
   ],
   "source": [
    "example = df['job_title'][20]\n",
    "print(example)\n",
    "print(type(example))"
   ]
  },
  {
   "cell_type": "code",
   "execution_count": 27,
   "metadata": {},
   "outputs": [
    {
     "data": {
      "text/plain": [
       "['Aspiring', 'Human', 'Resources', 'Professional']"
      ]
     },
     "execution_count": 27,
     "metadata": {},
     "output_type": "execute_result"
    }
   ],
   "source": [
    "tokens = nltk.tokenize.word_tokenize(example, language='english', preserve_line=False)\n",
    "tokens"
   ]
  },
  {
   "cell_type": "markdown",
   "metadata": {},
   "source": []
  },
  {
   "cell_type": "markdown",
   "metadata": {},
   "source": [
    "## experimenting with the vader model on raw data to get the sentiment analysis of the job tittle\n"
   ]
  },
  {
   "cell_type": "code",
   "execution_count": 30,
   "metadata": {},
   "outputs": [],
   "source": [
    "from nltk.sentiment import SentimentIntensityAnalyzer\n",
    "from tqdm.notebook import tqdm\n",
    "\n",
    "sia = SentimentIntensityAnalyzer()"
   ]
  },
  {
   "cell_type": "code",
   "execution_count": 32,
   "metadata": {},
   "outputs": [
    {
     "data": {
      "text/plain": [
       "{'neg': 0.0, 'neu': 1.0, 'pos': 0.0, 'compound': 0.0}"
      ]
     },
     "execution_count": 32,
     "metadata": {},
     "output_type": "execute_result"
    }
   ],
   "source": [
    "sia.polarity_scores(example)"
   ]
  },
  {
   "cell_type": "code",
   "execution_count": 37,
   "metadata": {},
   "outputs": [
    {
     "data": {
      "application/vnd.jupyter.widget-view+json": {
       "model_id": "bd3d5cc9dec4426f9d3aff323da3046e",
       "version_major": 2,
       "version_minor": 0
      },
      "text/plain": [
       "  0%|          | 0/104 [00:00<?, ?it/s]"
      ]
     },
     "metadata": {},
     "output_type": "display_data"
    }
   ],
   "source": [
    "for i, row in tqdm(df.iterrows(), total=df.shape[0]):\n",
    "    df.loc[i, 'sentiment'] = sia.polarity_scores(row['job_title'])['compound']\n",
    "    df.loc[i, 'sentiment_negative'] = sia.polarity_scores(row['job_title'])['neg']\n",
    "    df.loc[i, 'sentiment_neutral'] = sia.polarity_scores(row['job_title'])['neu']\n",
    "    df.loc[i, 'sentiment_positive'] = sia.polarity_scores(row['job_title'])['pos']"
   ]
  },
  {
   "cell_type": "code",
   "execution_count": 39,
   "metadata": {},
   "outputs": [
    {
     "data": {
      "text/html": [
       "<div>\n",
       "<style scoped>\n",
       "    .dataframe tbody tr th:only-of-type {\n",
       "        vertical-align: middle;\n",
       "    }\n",
       "\n",
       "    .dataframe tbody tr th {\n",
       "        vertical-align: top;\n",
       "    }\n",
       "\n",
       "    .dataframe thead th {\n",
       "        text-align: right;\n",
       "    }\n",
       "</style>\n",
       "<table border=\"1\" class=\"dataframe\">\n",
       "  <thead>\n",
       "    <tr style=\"text-align: right;\">\n",
       "      <th></th>\n",
       "      <th>id</th>\n",
       "      <th>job_title</th>\n",
       "      <th>location</th>\n",
       "      <th>connection</th>\n",
       "      <th>fit</th>\n",
       "      <th>sentiment</th>\n",
       "      <th>sentiment_negative</th>\n",
       "      <th>sentiment_neutral</th>\n",
       "      <th>sentiment_positive</th>\n",
       "    </tr>\n",
       "  </thead>\n",
       "  <tbody>\n",
       "    <tr>\n",
       "      <th>75</th>\n",
       "      <td>76</td>\n",
       "      <td>Aspiring Human Resources Professional | Passio...</td>\n",
       "      <td>New York, New York</td>\n",
       "      <td>212</td>\n",
       "      <td>NaN</td>\n",
       "      <td>0.8442</td>\n",
       "      <td>0.0</td>\n",
       "      <td>0.521</td>\n",
       "      <td>0.479</td>\n",
       "    </tr>\n",
       "    <tr>\n",
       "      <th>91</th>\n",
       "      <td>92</td>\n",
       "      <td>Seeking employment opportunities within Custom...</td>\n",
       "      <td>Torrance, California</td>\n",
       "      <td>64</td>\n",
       "      <td>NaN</td>\n",
       "      <td>0.7003</td>\n",
       "      <td>0.0</td>\n",
       "      <td>0.547</td>\n",
       "      <td>0.453</td>\n",
       "    </tr>\n",
       "    <tr>\n",
       "      <th>85</th>\n",
       "      <td>86</td>\n",
       "      <td>Information Systems Specialist and Programmer ...</td>\n",
       "      <td>Gaithersburg, Maryland</td>\n",
       "      <td>4</td>\n",
       "      <td>NaN</td>\n",
       "      <td>0.6369</td>\n",
       "      <td>0.0</td>\n",
       "      <td>0.704</td>\n",
       "      <td>0.296</td>\n",
       "    </tr>\n",
       "    <tr>\n",
       "      <th>103</th>\n",
       "      <td>104</td>\n",
       "      <td>Director Of Administration at Excellence Logging</td>\n",
       "      <td>Katy, Texas</td>\n",
       "      <td>500+</td>\n",
       "      <td>NaN</td>\n",
       "      <td>0.6249</td>\n",
       "      <td>0.0</td>\n",
       "      <td>0.549</td>\n",
       "      <td>0.451</td>\n",
       "    </tr>\n",
       "    <tr>\n",
       "      <th>102</th>\n",
       "      <td>103</td>\n",
       "      <td>Always set them up for Success</td>\n",
       "      <td>Greater Los Angeles Area</td>\n",
       "      <td>500+</td>\n",
       "      <td>NaN</td>\n",
       "      <td>0.5719</td>\n",
       "      <td>0.0</td>\n",
       "      <td>0.575</td>\n",
       "      <td>0.425</td>\n",
       "    </tr>\n",
       "    <tr>\n",
       "      <th>101</th>\n",
       "      <td>102</td>\n",
       "      <td>Business Intelligence and Analytics at Travelers</td>\n",
       "      <td>Greater New York City Area</td>\n",
       "      <td>49</td>\n",
       "      <td>NaN</td>\n",
       "      <td>0.4767</td>\n",
       "      <td>0.0</td>\n",
       "      <td>0.617</td>\n",
       "      <td>0.383</td>\n",
       "    </tr>\n",
       "    <tr>\n",
       "      <th>81</th>\n",
       "      <td>82</td>\n",
       "      <td>Aspiring Human Resources Professional | An ene...</td>\n",
       "      <td>Austin, Texas Area</td>\n",
       "      <td>174</td>\n",
       "      <td>NaN</td>\n",
       "      <td>0.4404</td>\n",
       "      <td>0.0</td>\n",
       "      <td>0.734</td>\n",
       "      <td>0.266</td>\n",
       "    </tr>\n",
       "    <tr>\n",
       "      <th>27</th>\n",
       "      <td>28</td>\n",
       "      <td>Seeking Human Resources Opportunities</td>\n",
       "      <td>Chicago, Illinois</td>\n",
       "      <td>390</td>\n",
       "      <td>NaN</td>\n",
       "      <td>0.3818</td>\n",
       "      <td>0.0</td>\n",
       "      <td>0.536</td>\n",
       "      <td>0.464</td>\n",
       "    </tr>\n",
       "    <tr>\n",
       "      <th>93</th>\n",
       "      <td>94</td>\n",
       "      <td>Seeking Human  Resources Opportunities. Open t...</td>\n",
       "      <td>Amerika Birleşik Devletleri</td>\n",
       "      <td>415</td>\n",
       "      <td>NaN</td>\n",
       "      <td>0.3818</td>\n",
       "      <td>0.0</td>\n",
       "      <td>0.755</td>\n",
       "      <td>0.245</td>\n",
       "    </tr>\n",
       "    <tr>\n",
       "      <th>29</th>\n",
       "      <td>30</td>\n",
       "      <td>Seeking Human Resources Opportunities</td>\n",
       "      <td>Chicago, Illinois</td>\n",
       "      <td>390</td>\n",
       "      <td>NaN</td>\n",
       "      <td>0.3818</td>\n",
       "      <td>0.0</td>\n",
       "      <td>0.536</td>\n",
       "      <td>0.464</td>\n",
       "    </tr>\n",
       "  </tbody>\n",
       "</table>\n",
       "</div>"
      ],
      "text/plain": [
       "      id                                          job_title  \\\n",
       "75    76  Aspiring Human Resources Professional | Passio...   \n",
       "91    92  Seeking employment opportunities within Custom...   \n",
       "85    86  Information Systems Specialist and Programmer ...   \n",
       "103  104   Director Of Administration at Excellence Logging   \n",
       "102  103                     Always set them up for Success   \n",
       "101  102   Business Intelligence and Analytics at Travelers   \n",
       "81    82  Aspiring Human Resources Professional | An ene...   \n",
       "27    28              Seeking Human Resources Opportunities   \n",
       "93    94  Seeking Human  Resources Opportunities. Open t...   \n",
       "29    30              Seeking Human Resources Opportunities   \n",
       "\n",
       "                        location connection  fit  sentiment  \\\n",
       "75            New York, New York        212  NaN     0.8442   \n",
       "91          Torrance, California         64  NaN     0.7003   \n",
       "85        Gaithersburg, Maryland          4  NaN     0.6369   \n",
       "103                  Katy, Texas      500+   NaN     0.6249   \n",
       "102     Greater Los Angeles Area      500+   NaN     0.5719   \n",
       "101   Greater New York City Area         49  NaN     0.4767   \n",
       "81            Austin, Texas Area        174  NaN     0.4404   \n",
       "27             Chicago, Illinois        390  NaN     0.3818   \n",
       "93   Amerika Birleşik Devletleri        415  NaN     0.3818   \n",
       "29             Chicago, Illinois        390  NaN     0.3818   \n",
       "\n",
       "     sentiment_negative  sentiment_neutral  sentiment_positive  \n",
       "75                  0.0              0.521               0.479  \n",
       "91                  0.0              0.547               0.453  \n",
       "85                  0.0              0.704               0.296  \n",
       "103                 0.0              0.549               0.451  \n",
       "102                 0.0              0.575               0.425  \n",
       "101                 0.0              0.617               0.383  \n",
       "81                  0.0              0.734               0.266  \n",
       "27                  0.0              0.536               0.464  \n",
       "93                  0.0              0.755               0.245  \n",
       "29                  0.0              0.536               0.464  "
      ]
     },
     "execution_count": 39,
     "metadata": {},
     "output_type": "execute_result"
    }
   ],
   "source": [
    "df.sort_values(by='sentiment', ascending=False).head(10)"
   ]
  },
  {
   "cell_type": "markdown",
   "metadata": {},
   "source": [
    "# "
   ]
  },
  {
   "cell_type": "code",
   "execution_count": null,
   "metadata": {},
   "outputs": [],
   "source": []
  },
  {
   "cell_type": "markdown",
   "metadata": {},
   "source": [
    "## Roberta Pretrained Model\n",
    "\n",
    "* transformer model accounts for the words but also the context of the words in the sentence"
   ]
  },
  {
   "cell_type": "markdown",
   "metadata": {},
   "source": []
  }
 ],
 "metadata": {
  "kernelspec": {
   "display_name": "base",
   "language": "python",
   "name": "python3"
  },
  "language_info": {
   "codemirror_mode": {
    "name": "ipython",
    "version": 3
   },
   "file_extension": ".py",
   "mimetype": "text/x-python",
   "name": "python",
   "nbconvert_exporter": "python",
   "pygments_lexer": "ipython3",
   "version": "3.11.4"
  },
  "orig_nbformat": 4
 },
 "nbformat": 4,
 "nbformat_minor": 2
}
